{
  "nbformat": 4,
  "nbformat_minor": 0,
  "metadata": {
    "colab": {
      "provenance": []
    },
    "kernelspec": {
      "name": "python3",
      "display_name": "Python 3"
    },
    "language_info": {
      "name": "python"
    }
  },
  "cells": [
    {
      "cell_type": "markdown",
      "source": [
        "## **Basic Exploratory Data Analysis (EDA)**"
      ],
      "metadata": {
        "id": "zzMg_F8OZK9L"
      }
    },
    {
      "cell_type": "code",
      "execution_count": null,
      "metadata": {
        "id": "1cyQuGqEWAFp"
      },
      "outputs": [],
      "source": [
        "import pandas as pd\n",
        "import numpy as np"
      ]
    },
    {
      "cell_type": "code",
      "source": [
        "file_df = pd.read_csv(\"/content/top.csv\",engine='python',encoding='latin1')"
      ],
      "metadata": {
        "id": "aKuGc56jWUuT"
      },
      "execution_count": null,
      "outputs": []
    },
    {
      "cell_type": "code",
      "source": [
        "file_df.head()"
      ],
      "metadata": {
        "colab": {
          "base_uri": "https://localhost:8080/",
          "height": 461
        },
        "id": "d-ysEPNTXY_m",
        "outputId": "ea13256b-2471-401a-a267-53f982950535"
      },
      "execution_count": null,
      "outputs": [
        {
          "output_type": "execute_result",
          "data": {
            "text/plain": [
              "   Unnamed: 0                       Track.Name    Artist.Name           Genre  \\\n",
              "0           1                         Señorita   Shawn Mendes    canadian pop   \n",
              "1           2                            China       Anuel AA  reggaeton flow   \n",
              "2           3    boyfriend (with Social House)  Ariana Grande       dance pop   \n",
              "3           4  Beautiful People (feat. Khalid)     Ed Sheeran             pop   \n",
              "4           5      Goodbyes (Feat. Young Thug)    Post Malone         dfw rap   \n",
              "\n",
              "   Beats.Per.Minute  Energy  Danceability  Loudness..dB..  Liveness  Valence.  \\\n",
              "0               117      55            76              -6         8        75   \n",
              "1               105      81            79              -4         8        61   \n",
              "2               190      80            40              -4        16        70   \n",
              "3                93      65            64              -8         8        55   \n",
              "4               150      65            58              -4        11        18   \n",
              "\n",
              "   Length.  Acousticness..  Speechiness.  Popularity  \n",
              "0      191               4             3          79  \n",
              "1      302               8             9          92  \n",
              "2      186              12            46          85  \n",
              "3      198              12            19          86  \n",
              "4      175              45             7          94  "
            ],
            "text/html": [
              "\n",
              "  <div id=\"df-10cc086d-c83e-471c-b8e6-07e0dbf759e9\">\n",
              "    <div class=\"colab-df-container\">\n",
              "      <div>\n",
              "<style scoped>\n",
              "    .dataframe tbody tr th:only-of-type {\n",
              "        vertical-align: middle;\n",
              "    }\n",
              "\n",
              "    .dataframe tbody tr th {\n",
              "        vertical-align: top;\n",
              "    }\n",
              "\n",
              "    .dataframe thead th {\n",
              "        text-align: right;\n",
              "    }\n",
              "</style>\n",
              "<table border=\"1\" class=\"dataframe\">\n",
              "  <thead>\n",
              "    <tr style=\"text-align: right;\">\n",
              "      <th></th>\n",
              "      <th>Unnamed: 0</th>\n",
              "      <th>Track.Name</th>\n",
              "      <th>Artist.Name</th>\n",
              "      <th>Genre</th>\n",
              "      <th>Beats.Per.Minute</th>\n",
              "      <th>Energy</th>\n",
              "      <th>Danceability</th>\n",
              "      <th>Loudness..dB..</th>\n",
              "      <th>Liveness</th>\n",
              "      <th>Valence.</th>\n",
              "      <th>Length.</th>\n",
              "      <th>Acousticness..</th>\n",
              "      <th>Speechiness.</th>\n",
              "      <th>Popularity</th>\n",
              "    </tr>\n",
              "  </thead>\n",
              "  <tbody>\n",
              "    <tr>\n",
              "      <th>0</th>\n",
              "      <td>1</td>\n",
              "      <td>Señorita</td>\n",
              "      <td>Shawn Mendes</td>\n",
              "      <td>canadian pop</td>\n",
              "      <td>117</td>\n",
              "      <td>55</td>\n",
              "      <td>76</td>\n",
              "      <td>-6</td>\n",
              "      <td>8</td>\n",
              "      <td>75</td>\n",
              "      <td>191</td>\n",
              "      <td>4</td>\n",
              "      <td>3</td>\n",
              "      <td>79</td>\n",
              "    </tr>\n",
              "    <tr>\n",
              "      <th>1</th>\n",
              "      <td>2</td>\n",
              "      <td>China</td>\n",
              "      <td>Anuel AA</td>\n",
              "      <td>reggaeton flow</td>\n",
              "      <td>105</td>\n",
              "      <td>81</td>\n",
              "      <td>79</td>\n",
              "      <td>-4</td>\n",
              "      <td>8</td>\n",
              "      <td>61</td>\n",
              "      <td>302</td>\n",
              "      <td>8</td>\n",
              "      <td>9</td>\n",
              "      <td>92</td>\n",
              "    </tr>\n",
              "    <tr>\n",
              "      <th>2</th>\n",
              "      <td>3</td>\n",
              "      <td>boyfriend (with Social House)</td>\n",
              "      <td>Ariana Grande</td>\n",
              "      <td>dance pop</td>\n",
              "      <td>190</td>\n",
              "      <td>80</td>\n",
              "      <td>40</td>\n",
              "      <td>-4</td>\n",
              "      <td>16</td>\n",
              "      <td>70</td>\n",
              "      <td>186</td>\n",
              "      <td>12</td>\n",
              "      <td>46</td>\n",
              "      <td>85</td>\n",
              "    </tr>\n",
              "    <tr>\n",
              "      <th>3</th>\n",
              "      <td>4</td>\n",
              "      <td>Beautiful People (feat. Khalid)</td>\n",
              "      <td>Ed Sheeran</td>\n",
              "      <td>pop</td>\n",
              "      <td>93</td>\n",
              "      <td>65</td>\n",
              "      <td>64</td>\n",
              "      <td>-8</td>\n",
              "      <td>8</td>\n",
              "      <td>55</td>\n",
              "      <td>198</td>\n",
              "      <td>12</td>\n",
              "      <td>19</td>\n",
              "      <td>86</td>\n",
              "    </tr>\n",
              "    <tr>\n",
              "      <th>4</th>\n",
              "      <td>5</td>\n",
              "      <td>Goodbyes (Feat. Young Thug)</td>\n",
              "      <td>Post Malone</td>\n",
              "      <td>dfw rap</td>\n",
              "      <td>150</td>\n",
              "      <td>65</td>\n",
              "      <td>58</td>\n",
              "      <td>-4</td>\n",
              "      <td>11</td>\n",
              "      <td>18</td>\n",
              "      <td>175</td>\n",
              "      <td>45</td>\n",
              "      <td>7</td>\n",
              "      <td>94</td>\n",
              "    </tr>\n",
              "  </tbody>\n",
              "</table>\n",
              "</div>\n",
              "      <button class=\"colab-df-convert\" onclick=\"convertToInteractive('df-10cc086d-c83e-471c-b8e6-07e0dbf759e9')\"\n",
              "              title=\"Convert this dataframe to an interactive table.\"\n",
              "              style=\"display:none;\">\n",
              "        \n",
              "  <svg xmlns=\"http://www.w3.org/2000/svg\" height=\"24px\"viewBox=\"0 0 24 24\"\n",
              "       width=\"24px\">\n",
              "    <path d=\"M0 0h24v24H0V0z\" fill=\"none\"/>\n",
              "    <path d=\"M18.56 5.44l.94 2.06.94-2.06 2.06-.94-2.06-.94-.94-2.06-.94 2.06-2.06.94zm-11 1L8.5 8.5l.94-2.06 2.06-.94-2.06-.94L8.5 2.5l-.94 2.06-2.06.94zm10 10l.94 2.06.94-2.06 2.06-.94-2.06-.94-.94-2.06-.94 2.06-2.06.94z\"/><path d=\"M17.41 7.96l-1.37-1.37c-.4-.4-.92-.59-1.43-.59-.52 0-1.04.2-1.43.59L10.3 9.45l-7.72 7.72c-.78.78-.78 2.05 0 2.83L4 21.41c.39.39.9.59 1.41.59.51 0 1.02-.2 1.41-.59l7.78-7.78 2.81-2.81c.8-.78.8-2.07 0-2.86zM5.41 20L4 18.59l7.72-7.72 1.47 1.35L5.41 20z\"/>\n",
              "  </svg>\n",
              "      </button>\n",
              "      \n",
              "  <style>\n",
              "    .colab-df-container {\n",
              "      display:flex;\n",
              "      flex-wrap:wrap;\n",
              "      gap: 12px;\n",
              "    }\n",
              "\n",
              "    .colab-df-convert {\n",
              "      background-color: #E8F0FE;\n",
              "      border: none;\n",
              "      border-radius: 50%;\n",
              "      cursor: pointer;\n",
              "      display: none;\n",
              "      fill: #1967D2;\n",
              "      height: 32px;\n",
              "      padding: 0 0 0 0;\n",
              "      width: 32px;\n",
              "    }\n",
              "\n",
              "    .colab-df-convert:hover {\n",
              "      background-color: #E2EBFA;\n",
              "      box-shadow: 0px 1px 2px rgba(60, 64, 67, 0.3), 0px 1px 3px 1px rgba(60, 64, 67, 0.15);\n",
              "      fill: #174EA6;\n",
              "    }\n",
              "\n",
              "    [theme=dark] .colab-df-convert {\n",
              "      background-color: #3B4455;\n",
              "      fill: #D2E3FC;\n",
              "    }\n",
              "\n",
              "    [theme=dark] .colab-df-convert:hover {\n",
              "      background-color: #434B5C;\n",
              "      box-shadow: 0px 1px 3px 1px rgba(0, 0, 0, 0.15);\n",
              "      filter: drop-shadow(0px 1px 2px rgba(0, 0, 0, 0.3));\n",
              "      fill: #FFFFFF;\n",
              "    }\n",
              "  </style>\n",
              "\n",
              "      <script>\n",
              "        const buttonEl =\n",
              "          document.querySelector('#df-10cc086d-c83e-471c-b8e6-07e0dbf759e9 button.colab-df-convert');\n",
              "        buttonEl.style.display =\n",
              "          google.colab.kernel.accessAllowed ? 'block' : 'none';\n",
              "\n",
              "        async function convertToInteractive(key) {\n",
              "          const element = document.querySelector('#df-10cc086d-c83e-471c-b8e6-07e0dbf759e9');\n",
              "          const dataTable =\n",
              "            await google.colab.kernel.invokeFunction('convertToInteractive',\n",
              "                                                     [key], {});\n",
              "          if (!dataTable) return;\n",
              "\n",
              "          const docLinkHtml = 'Like what you see? Visit the ' +\n",
              "            '<a target=\"_blank\" href=https://colab.research.google.com/notebooks/data_table.ipynb>data table notebook</a>'\n",
              "            + ' to learn more about interactive tables.';\n",
              "          element.innerHTML = '';\n",
              "          dataTable['output_type'] = 'display_data';\n",
              "          await google.colab.output.renderOutput(dataTable, element);\n",
              "          const docLink = document.createElement('div');\n",
              "          docLink.innerHTML = docLinkHtml;\n",
              "          element.appendChild(docLink);\n",
              "        }\n",
              "      </script>\n",
              "    </div>\n",
              "  </div>\n",
              "  "
            ]
          },
          "metadata": {},
          "execution_count": 10
        }
      ]
    },
    {
      "cell_type": "code",
      "source": [
        "file_df.tail()"
      ],
      "metadata": {
        "colab": {
          "base_uri": "https://localhost:8080/",
          "height": 391
        },
        "id": "I4FN4quKYSnA",
        "outputId": "c5cf5d2d-e40a-4918-d36b-03592dbedab8"
      },
      "execution_count": null,
      "outputs": [
        {
          "output_type": "execute_result",
          "data": {
            "text/plain": [
              "    Unnamed: 0                                     Track.Name  \\\n",
              "45          46                                One Thing Right   \n",
              "46          47                                      Te Robaré   \n",
              "47          48                                        Happier   \n",
              "48          49                                  Call You Mine   \n",
              "49          50  Cross Me (feat. Chance the Rapper & PnB Rock)   \n",
              "\n",
              "         Artist.Name    Genre  Beats.Per.Minute  Energy  Danceability  \\\n",
              "45        Marshmello  brostep                88      62            66   \n",
              "46         Nicky Jam    latin               176      75            67   \n",
              "47        Marshmello  brostep               100      79            69   \n",
              "48  The Chainsmokers      edm               104      70            59   \n",
              "49        Ed Sheeran      pop                95      79            75   \n",
              "\n",
              "    Loudness..dB..  Liveness  Valence.  Length.  Acousticness..  Speechiness.  \\\n",
              "45              -2        58        44      182               7             5   \n",
              "46              -4         8        80      202              24             6   \n",
              "47              -3        17        67      214              19             5   \n",
              "48              -6        41        50      218              23             3   \n",
              "49              -6         7        61      206              21            12   \n",
              "\n",
              "    Popularity  \n",
              "45          88  \n",
              "46          88  \n",
              "47          88  \n",
              "48          88  \n",
              "49          82  "
            ],
            "text/html": [
              "\n",
              "  <div id=\"df-7ee82d1d-9a7e-447d-91ff-5f7747fa600c\">\n",
              "    <div class=\"colab-df-container\">\n",
              "      <div>\n",
              "<style scoped>\n",
              "    .dataframe tbody tr th:only-of-type {\n",
              "        vertical-align: middle;\n",
              "    }\n",
              "\n",
              "    .dataframe tbody tr th {\n",
              "        vertical-align: top;\n",
              "    }\n",
              "\n",
              "    .dataframe thead th {\n",
              "        text-align: right;\n",
              "    }\n",
              "</style>\n",
              "<table border=\"1\" class=\"dataframe\">\n",
              "  <thead>\n",
              "    <tr style=\"text-align: right;\">\n",
              "      <th></th>\n",
              "      <th>Unnamed: 0</th>\n",
              "      <th>Track.Name</th>\n",
              "      <th>Artist.Name</th>\n",
              "      <th>Genre</th>\n",
              "      <th>Beats.Per.Minute</th>\n",
              "      <th>Energy</th>\n",
              "      <th>Danceability</th>\n",
              "      <th>Loudness..dB..</th>\n",
              "      <th>Liveness</th>\n",
              "      <th>Valence.</th>\n",
              "      <th>Length.</th>\n",
              "      <th>Acousticness..</th>\n",
              "      <th>Speechiness.</th>\n",
              "      <th>Popularity</th>\n",
              "    </tr>\n",
              "  </thead>\n",
              "  <tbody>\n",
              "    <tr>\n",
              "      <th>45</th>\n",
              "      <td>46</td>\n",
              "      <td>One Thing Right</td>\n",
              "      <td>Marshmello</td>\n",
              "      <td>brostep</td>\n",
              "      <td>88</td>\n",
              "      <td>62</td>\n",
              "      <td>66</td>\n",
              "      <td>-2</td>\n",
              "      <td>58</td>\n",
              "      <td>44</td>\n",
              "      <td>182</td>\n",
              "      <td>7</td>\n",
              "      <td>5</td>\n",
              "      <td>88</td>\n",
              "    </tr>\n",
              "    <tr>\n",
              "      <th>46</th>\n",
              "      <td>47</td>\n",
              "      <td>Te Robaré</td>\n",
              "      <td>Nicky Jam</td>\n",
              "      <td>latin</td>\n",
              "      <td>176</td>\n",
              "      <td>75</td>\n",
              "      <td>67</td>\n",
              "      <td>-4</td>\n",
              "      <td>8</td>\n",
              "      <td>80</td>\n",
              "      <td>202</td>\n",
              "      <td>24</td>\n",
              "      <td>6</td>\n",
              "      <td>88</td>\n",
              "    </tr>\n",
              "    <tr>\n",
              "      <th>47</th>\n",
              "      <td>48</td>\n",
              "      <td>Happier</td>\n",
              "      <td>Marshmello</td>\n",
              "      <td>brostep</td>\n",
              "      <td>100</td>\n",
              "      <td>79</td>\n",
              "      <td>69</td>\n",
              "      <td>-3</td>\n",
              "      <td>17</td>\n",
              "      <td>67</td>\n",
              "      <td>214</td>\n",
              "      <td>19</td>\n",
              "      <td>5</td>\n",
              "      <td>88</td>\n",
              "    </tr>\n",
              "    <tr>\n",
              "      <th>48</th>\n",
              "      <td>49</td>\n",
              "      <td>Call You Mine</td>\n",
              "      <td>The Chainsmokers</td>\n",
              "      <td>edm</td>\n",
              "      <td>104</td>\n",
              "      <td>70</td>\n",
              "      <td>59</td>\n",
              "      <td>-6</td>\n",
              "      <td>41</td>\n",
              "      <td>50</td>\n",
              "      <td>218</td>\n",
              "      <td>23</td>\n",
              "      <td>3</td>\n",
              "      <td>88</td>\n",
              "    </tr>\n",
              "    <tr>\n",
              "      <th>49</th>\n",
              "      <td>50</td>\n",
              "      <td>Cross Me (feat. Chance the Rapper &amp; PnB Rock)</td>\n",
              "      <td>Ed Sheeran</td>\n",
              "      <td>pop</td>\n",
              "      <td>95</td>\n",
              "      <td>79</td>\n",
              "      <td>75</td>\n",
              "      <td>-6</td>\n",
              "      <td>7</td>\n",
              "      <td>61</td>\n",
              "      <td>206</td>\n",
              "      <td>21</td>\n",
              "      <td>12</td>\n",
              "      <td>82</td>\n",
              "    </tr>\n",
              "  </tbody>\n",
              "</table>\n",
              "</div>\n",
              "      <button class=\"colab-df-convert\" onclick=\"convertToInteractive('df-7ee82d1d-9a7e-447d-91ff-5f7747fa600c')\"\n",
              "              title=\"Convert this dataframe to an interactive table.\"\n",
              "              style=\"display:none;\">\n",
              "        \n",
              "  <svg xmlns=\"http://www.w3.org/2000/svg\" height=\"24px\"viewBox=\"0 0 24 24\"\n",
              "       width=\"24px\">\n",
              "    <path d=\"M0 0h24v24H0V0z\" fill=\"none\"/>\n",
              "    <path d=\"M18.56 5.44l.94 2.06.94-2.06 2.06-.94-2.06-.94-.94-2.06-.94 2.06-2.06.94zm-11 1L8.5 8.5l.94-2.06 2.06-.94-2.06-.94L8.5 2.5l-.94 2.06-2.06.94zm10 10l.94 2.06.94-2.06 2.06-.94-2.06-.94-.94-2.06-.94 2.06-2.06.94z\"/><path d=\"M17.41 7.96l-1.37-1.37c-.4-.4-.92-.59-1.43-.59-.52 0-1.04.2-1.43.59L10.3 9.45l-7.72 7.72c-.78.78-.78 2.05 0 2.83L4 21.41c.39.39.9.59 1.41.59.51 0 1.02-.2 1.41-.59l7.78-7.78 2.81-2.81c.8-.78.8-2.07 0-2.86zM5.41 20L4 18.59l7.72-7.72 1.47 1.35L5.41 20z\"/>\n",
              "  </svg>\n",
              "      </button>\n",
              "      \n",
              "  <style>\n",
              "    .colab-df-container {\n",
              "      display:flex;\n",
              "      flex-wrap:wrap;\n",
              "      gap: 12px;\n",
              "    }\n",
              "\n",
              "    .colab-df-convert {\n",
              "      background-color: #E8F0FE;\n",
              "      border: none;\n",
              "      border-radius: 50%;\n",
              "      cursor: pointer;\n",
              "      display: none;\n",
              "      fill: #1967D2;\n",
              "      height: 32px;\n",
              "      padding: 0 0 0 0;\n",
              "      width: 32px;\n",
              "    }\n",
              "\n",
              "    .colab-df-convert:hover {\n",
              "      background-color: #E2EBFA;\n",
              "      box-shadow: 0px 1px 2px rgba(60, 64, 67, 0.3), 0px 1px 3px 1px rgba(60, 64, 67, 0.15);\n",
              "      fill: #174EA6;\n",
              "    }\n",
              "\n",
              "    [theme=dark] .colab-df-convert {\n",
              "      background-color: #3B4455;\n",
              "      fill: #D2E3FC;\n",
              "    }\n",
              "\n",
              "    [theme=dark] .colab-df-convert:hover {\n",
              "      background-color: #434B5C;\n",
              "      box-shadow: 0px 1px 3px 1px rgba(0, 0, 0, 0.15);\n",
              "      filter: drop-shadow(0px 1px 2px rgba(0, 0, 0, 0.3));\n",
              "      fill: #FFFFFF;\n",
              "    }\n",
              "  </style>\n",
              "\n",
              "      <script>\n",
              "        const buttonEl =\n",
              "          document.querySelector('#df-7ee82d1d-9a7e-447d-91ff-5f7747fa600c button.colab-df-convert');\n",
              "        buttonEl.style.display =\n",
              "          google.colab.kernel.accessAllowed ? 'block' : 'none';\n",
              "\n",
              "        async function convertToInteractive(key) {\n",
              "          const element = document.querySelector('#df-7ee82d1d-9a7e-447d-91ff-5f7747fa600c');\n",
              "          const dataTable =\n",
              "            await google.colab.kernel.invokeFunction('convertToInteractive',\n",
              "                                                     [key], {});\n",
              "          if (!dataTable) return;\n",
              "\n",
              "          const docLinkHtml = 'Like what you see? Visit the ' +\n",
              "            '<a target=\"_blank\" href=https://colab.research.google.com/notebooks/data_table.ipynb>data table notebook</a>'\n",
              "            + ' to learn more about interactive tables.';\n",
              "          element.innerHTML = '';\n",
              "          dataTable['output_type'] = 'display_data';\n",
              "          await google.colab.output.renderOutput(dataTable, element);\n",
              "          const docLink = document.createElement('div');\n",
              "          docLink.innerHTML = docLinkHtml;\n",
              "          element.appendChild(docLink);\n",
              "        }\n",
              "      </script>\n",
              "    </div>\n",
              "  </div>\n",
              "  "
            ]
          },
          "metadata": {},
          "execution_count": 12
        }
      ]
    },
    {
      "cell_type": "code",
      "source": [
        "file_df.info()"
      ],
      "metadata": {
        "colab": {
          "base_uri": "https://localhost:8080/"
        },
        "id": "SaTVzvWPYqCs",
        "outputId": "5cc431d6-200d-443b-c27c-aa311ee59805"
      },
      "execution_count": null,
      "outputs": [
        {
          "output_type": "stream",
          "name": "stdout",
          "text": [
            "<class 'pandas.core.frame.DataFrame'>\n",
            "RangeIndex: 50 entries, 0 to 49\n",
            "Data columns (total 14 columns):\n",
            " #   Column            Non-Null Count  Dtype \n",
            "---  ------            --------------  ----- \n",
            " 0   Unnamed: 0        50 non-null     int64 \n",
            " 1   Track.Name        50 non-null     object\n",
            " 2   Artist.Name       50 non-null     object\n",
            " 3   Genre             50 non-null     object\n",
            " 4   Beats.Per.Minute  50 non-null     int64 \n",
            " 5   Energy            50 non-null     int64 \n",
            " 6   Danceability      50 non-null     int64 \n",
            " 7   Loudness..dB..    50 non-null     int64 \n",
            " 8   Liveness          50 non-null     int64 \n",
            " 9   Valence.          50 non-null     int64 \n",
            " 10  Length.           50 non-null     int64 \n",
            " 11  Acousticness..    50 non-null     int64 \n",
            " 12  Speechiness.      50 non-null     int64 \n",
            " 13  Popularity        50 non-null     int64 \n",
            "dtypes: int64(11), object(3)\n",
            "memory usage: 5.6+ KB\n"
          ]
        }
      ]
    },
    {
      "cell_type": "code",
      "source": [
        "file_df.shape"
      ],
      "metadata": {
        "colab": {
          "base_uri": "https://localhost:8080/"
        },
        "id": "AjlMgvx5YwSw",
        "outputId": "62d798f6-8f5a-4d59-8e26-a8b5e9bc6d7a"
      },
      "execution_count": null,
      "outputs": [
        {
          "output_type": "execute_result",
          "data": {
            "text/plain": [
              "(50, 14)"
            ]
          },
          "metadata": {},
          "execution_count": 15
        }
      ]
    },
    {
      "cell_type": "code",
      "source": [
        "file_df.columns"
      ],
      "metadata": {
        "colab": {
          "base_uri": "https://localhost:8080/"
        },
        "id": "nSBkUwu_Y-Ol",
        "outputId": "10e30f92-0db3-4b96-f5a8-a6e0830d5a04"
      },
      "execution_count": null,
      "outputs": [
        {
          "output_type": "execute_result",
          "data": {
            "text/plain": [
              "Index(['Unnamed: 0', 'Track.Name', 'Artist.Name', 'Genre', 'Beats.Per.Minute',\n",
              "       'Energy', 'Danceability', 'Loudness..dB..', 'Liveness', 'Valence.',\n",
              "       'Length.', 'Acousticness..', 'Speechiness.', 'Popularity'],\n",
              "      dtype='object')"
            ]
          },
          "metadata": {},
          "execution_count": 17
        }
      ]
    },
    {
      "cell_type": "markdown",
      "source": [
        "# Data Understanding"
      ],
      "metadata": {
        "id": "P0U9H4IUZuXD"
      }
    },
    {
      "cell_type": "code",
      "source": [
        "file_df.describe()"
      ],
      "metadata": {
        "colab": {
          "base_uri": "https://localhost:8080/",
          "height": 381
        },
        "id": "EY5ghO7TZsc6",
        "outputId": "2b3594d9-2fe0-49d2-900e-3494c714d98d"
      },
      "execution_count": null,
      "outputs": [
        {
          "output_type": "execute_result",
          "data": {
            "text/plain": [
              "       Unnamed: 0  Beats.Per.Minute     Energy  Danceability  Loudness..dB..  \\\n",
              "count    50.00000         50.000000  50.000000      50.00000       50.000000   \n",
              "mean     25.50000        120.060000  64.060000      71.38000       -5.660000   \n",
              "std      14.57738         30.898392  14.231913      11.92988        2.056448   \n",
              "min       1.00000         85.000000  32.000000      29.00000      -11.000000   \n",
              "25%      13.25000         96.000000  55.250000      67.00000       -6.750000   \n",
              "50%      25.50000        104.500000  66.500000      73.50000       -6.000000   \n",
              "75%      37.75000        137.500000  74.750000      79.75000       -4.000000   \n",
              "max      50.00000        190.000000  88.000000      90.00000       -2.000000   \n",
              "\n",
              "        Liveness   Valence.     Length.  Acousticness..  Speechiness.  \\\n",
              "count  50.000000  50.000000   50.000000       50.000000     50.000000   \n",
              "mean   14.660000  54.600000  200.960000       22.160000     12.480000   \n",
              "std    11.118306  22.336024   39.143879       18.995553     11.161596   \n",
              "min     5.000000  10.000000  115.000000        1.000000      3.000000   \n",
              "25%     8.000000  38.250000  176.750000        8.250000      5.000000   \n",
              "50%    11.000000  55.500000  198.000000       15.000000      7.000000   \n",
              "75%    15.750000  69.500000  217.500000       33.750000     15.000000   \n",
              "max    58.000000  95.000000  309.000000       75.000000     46.000000   \n",
              "\n",
              "       Popularity  \n",
              "count   50.000000  \n",
              "mean    87.500000  \n",
              "std      4.491489  \n",
              "min     70.000000  \n",
              "25%     86.000000  \n",
              "50%     88.000000  \n",
              "75%     90.750000  \n",
              "max     95.000000  "
            ],
            "text/html": [
              "\n",
              "  <div id=\"df-3462040a-6648-4bbf-ac48-735a1b383401\">\n",
              "    <div class=\"colab-df-container\">\n",
              "      <div>\n",
              "<style scoped>\n",
              "    .dataframe tbody tr th:only-of-type {\n",
              "        vertical-align: middle;\n",
              "    }\n",
              "\n",
              "    .dataframe tbody tr th {\n",
              "        vertical-align: top;\n",
              "    }\n",
              "\n",
              "    .dataframe thead th {\n",
              "        text-align: right;\n",
              "    }\n",
              "</style>\n",
              "<table border=\"1\" class=\"dataframe\">\n",
              "  <thead>\n",
              "    <tr style=\"text-align: right;\">\n",
              "      <th></th>\n",
              "      <th>Unnamed: 0</th>\n",
              "      <th>Beats.Per.Minute</th>\n",
              "      <th>Energy</th>\n",
              "      <th>Danceability</th>\n",
              "      <th>Loudness..dB..</th>\n",
              "      <th>Liveness</th>\n",
              "      <th>Valence.</th>\n",
              "      <th>Length.</th>\n",
              "      <th>Acousticness..</th>\n",
              "      <th>Speechiness.</th>\n",
              "      <th>Popularity</th>\n",
              "    </tr>\n",
              "  </thead>\n",
              "  <tbody>\n",
              "    <tr>\n",
              "      <th>count</th>\n",
              "      <td>50.00000</td>\n",
              "      <td>50.000000</td>\n",
              "      <td>50.000000</td>\n",
              "      <td>50.00000</td>\n",
              "      <td>50.000000</td>\n",
              "      <td>50.000000</td>\n",
              "      <td>50.000000</td>\n",
              "      <td>50.000000</td>\n",
              "      <td>50.000000</td>\n",
              "      <td>50.000000</td>\n",
              "      <td>50.000000</td>\n",
              "    </tr>\n",
              "    <tr>\n",
              "      <th>mean</th>\n",
              "      <td>25.50000</td>\n",
              "      <td>120.060000</td>\n",
              "      <td>64.060000</td>\n",
              "      <td>71.38000</td>\n",
              "      <td>-5.660000</td>\n",
              "      <td>14.660000</td>\n",
              "      <td>54.600000</td>\n",
              "      <td>200.960000</td>\n",
              "      <td>22.160000</td>\n",
              "      <td>12.480000</td>\n",
              "      <td>87.500000</td>\n",
              "    </tr>\n",
              "    <tr>\n",
              "      <th>std</th>\n",
              "      <td>14.57738</td>\n",
              "      <td>30.898392</td>\n",
              "      <td>14.231913</td>\n",
              "      <td>11.92988</td>\n",
              "      <td>2.056448</td>\n",
              "      <td>11.118306</td>\n",
              "      <td>22.336024</td>\n",
              "      <td>39.143879</td>\n",
              "      <td>18.995553</td>\n",
              "      <td>11.161596</td>\n",
              "      <td>4.491489</td>\n",
              "    </tr>\n",
              "    <tr>\n",
              "      <th>min</th>\n",
              "      <td>1.00000</td>\n",
              "      <td>85.000000</td>\n",
              "      <td>32.000000</td>\n",
              "      <td>29.00000</td>\n",
              "      <td>-11.000000</td>\n",
              "      <td>5.000000</td>\n",
              "      <td>10.000000</td>\n",
              "      <td>115.000000</td>\n",
              "      <td>1.000000</td>\n",
              "      <td>3.000000</td>\n",
              "      <td>70.000000</td>\n",
              "    </tr>\n",
              "    <tr>\n",
              "      <th>25%</th>\n",
              "      <td>13.25000</td>\n",
              "      <td>96.000000</td>\n",
              "      <td>55.250000</td>\n",
              "      <td>67.00000</td>\n",
              "      <td>-6.750000</td>\n",
              "      <td>8.000000</td>\n",
              "      <td>38.250000</td>\n",
              "      <td>176.750000</td>\n",
              "      <td>8.250000</td>\n",
              "      <td>5.000000</td>\n",
              "      <td>86.000000</td>\n",
              "    </tr>\n",
              "    <tr>\n",
              "      <th>50%</th>\n",
              "      <td>25.50000</td>\n",
              "      <td>104.500000</td>\n",
              "      <td>66.500000</td>\n",
              "      <td>73.50000</td>\n",
              "      <td>-6.000000</td>\n",
              "      <td>11.000000</td>\n",
              "      <td>55.500000</td>\n",
              "      <td>198.000000</td>\n",
              "      <td>15.000000</td>\n",
              "      <td>7.000000</td>\n",
              "      <td>88.000000</td>\n",
              "    </tr>\n",
              "    <tr>\n",
              "      <th>75%</th>\n",
              "      <td>37.75000</td>\n",
              "      <td>137.500000</td>\n",
              "      <td>74.750000</td>\n",
              "      <td>79.75000</td>\n",
              "      <td>-4.000000</td>\n",
              "      <td>15.750000</td>\n",
              "      <td>69.500000</td>\n",
              "      <td>217.500000</td>\n",
              "      <td>33.750000</td>\n",
              "      <td>15.000000</td>\n",
              "      <td>90.750000</td>\n",
              "    </tr>\n",
              "    <tr>\n",
              "      <th>max</th>\n",
              "      <td>50.00000</td>\n",
              "      <td>190.000000</td>\n",
              "      <td>88.000000</td>\n",
              "      <td>90.00000</td>\n",
              "      <td>-2.000000</td>\n",
              "      <td>58.000000</td>\n",
              "      <td>95.000000</td>\n",
              "      <td>309.000000</td>\n",
              "      <td>75.000000</td>\n",
              "      <td>46.000000</td>\n",
              "      <td>95.000000</td>\n",
              "    </tr>\n",
              "  </tbody>\n",
              "</table>\n",
              "</div>\n",
              "      <button class=\"colab-df-convert\" onclick=\"convertToInteractive('df-3462040a-6648-4bbf-ac48-735a1b383401')\"\n",
              "              title=\"Convert this dataframe to an interactive table.\"\n",
              "              style=\"display:none;\">\n",
              "        \n",
              "  <svg xmlns=\"http://www.w3.org/2000/svg\" height=\"24px\"viewBox=\"0 0 24 24\"\n",
              "       width=\"24px\">\n",
              "    <path d=\"M0 0h24v24H0V0z\" fill=\"none\"/>\n",
              "    <path d=\"M18.56 5.44l.94 2.06.94-2.06 2.06-.94-2.06-.94-.94-2.06-.94 2.06-2.06.94zm-11 1L8.5 8.5l.94-2.06 2.06-.94-2.06-.94L8.5 2.5l-.94 2.06-2.06.94zm10 10l.94 2.06.94-2.06 2.06-.94-2.06-.94-.94-2.06-.94 2.06-2.06.94z\"/><path d=\"M17.41 7.96l-1.37-1.37c-.4-.4-.92-.59-1.43-.59-.52 0-1.04.2-1.43.59L10.3 9.45l-7.72 7.72c-.78.78-.78 2.05 0 2.83L4 21.41c.39.39.9.59 1.41.59.51 0 1.02-.2 1.41-.59l7.78-7.78 2.81-2.81c.8-.78.8-2.07 0-2.86zM5.41 20L4 18.59l7.72-7.72 1.47 1.35L5.41 20z\"/>\n",
              "  </svg>\n",
              "      </button>\n",
              "      \n",
              "  <style>\n",
              "    .colab-df-container {\n",
              "      display:flex;\n",
              "      flex-wrap:wrap;\n",
              "      gap: 12px;\n",
              "    }\n",
              "\n",
              "    .colab-df-convert {\n",
              "      background-color: #E8F0FE;\n",
              "      border: none;\n",
              "      border-radius: 50%;\n",
              "      cursor: pointer;\n",
              "      display: none;\n",
              "      fill: #1967D2;\n",
              "      height: 32px;\n",
              "      padding: 0 0 0 0;\n",
              "      width: 32px;\n",
              "    }\n",
              "\n",
              "    .colab-df-convert:hover {\n",
              "      background-color: #E2EBFA;\n",
              "      box-shadow: 0px 1px 2px rgba(60, 64, 67, 0.3), 0px 1px 3px 1px rgba(60, 64, 67, 0.15);\n",
              "      fill: #174EA6;\n",
              "    }\n",
              "\n",
              "    [theme=dark] .colab-df-convert {\n",
              "      background-color: #3B4455;\n",
              "      fill: #D2E3FC;\n",
              "    }\n",
              "\n",
              "    [theme=dark] .colab-df-convert:hover {\n",
              "      background-color: #434B5C;\n",
              "      box-shadow: 0px 1px 3px 1px rgba(0, 0, 0, 0.15);\n",
              "      filter: drop-shadow(0px 1px 2px rgba(0, 0, 0, 0.3));\n",
              "      fill: #FFFFFF;\n",
              "    }\n",
              "  </style>\n",
              "\n",
              "      <script>\n",
              "        const buttonEl =\n",
              "          document.querySelector('#df-3462040a-6648-4bbf-ac48-735a1b383401 button.colab-df-convert');\n",
              "        buttonEl.style.display =\n",
              "          google.colab.kernel.accessAllowed ? 'block' : 'none';\n",
              "\n",
              "        async function convertToInteractive(key) {\n",
              "          const element = document.querySelector('#df-3462040a-6648-4bbf-ac48-735a1b383401');\n",
              "          const dataTable =\n",
              "            await google.colab.kernel.invokeFunction('convertToInteractive',\n",
              "                                                     [key], {});\n",
              "          if (!dataTable) return;\n",
              "\n",
              "          const docLinkHtml = 'Like what you see? Visit the ' +\n",
              "            '<a target=\"_blank\" href=https://colab.research.google.com/notebooks/data_table.ipynb>data table notebook</a>'\n",
              "            + ' to learn more about interactive tables.';\n",
              "          element.innerHTML = '';\n",
              "          dataTable['output_type'] = 'display_data';\n",
              "          await google.colab.output.renderOutput(dataTable, element);\n",
              "          const docLink = document.createElement('div');\n",
              "          docLink.innerHTML = docLinkHtml;\n",
              "          element.appendChild(docLink);\n",
              "        }\n",
              "      </script>\n",
              "    </div>\n",
              "  </div>\n",
              "  "
            ]
          },
          "metadata": {},
          "execution_count": 18
        }
      ]
    },
    {
      "cell_type": "markdown",
      "source": [
        "From the statistics above we can observe the following:\n",
        "1. The range of the \"Unnamed: 0\" column is 1-50,and this column was created automatically during the data collection or data cleaning process and does not have any significant meaning or relevance to the analysis of the dataset.\n",
        "2. The \"Beats.Per.Minute\" column has mean value equal 120.06, indicating that the songs in the dataset have a relatively fast tempo.\n",
        "3. The \"Energy\" column has a mean value of 64.06 and a standard deviation of 14.23, suggesting that the songs have moderate energy levels.\n",
        "4. The \"Danceability\" column has mean value equal 71.38, indicating that the songs in the dataset are generally highly danceable.\n",
        "5.  The \"Loudness..dB..\" column has mean value equal -5.66, which suggests that the songs are relatively loud.\n",
        "6. The \"Liveness\" column has mean value equal 14.66, indicating that the songs in the dataset have a moderate level of audience presence or crowd noise.\n",
        "- The minimum value for \"Liveness\" is 5, indicating that there are some songs in the dataset with low audience presence.\n",
        "- The maximum value for \"Liveness\" is 58, indicating that there are some songs in the dataset with high audience presence or live recordings.\n",
        "- The standard deviation of \"Liveness\" is 11.12, which suggests that the level of audience presence varies widely across the songs in the dataset.\n",
        "7. The \"Valence.\" column has a mean value of 54.60, indicating that the songs have a generally positive mood.\n",
        "8. The \"Length.\" column has mean value equal 200.96, which suggests that the songs in the dataset are relatively long.\n",
        "9. The \"Acousticness..\" column has a mean value of 22.16 and a standard deviation of 18.99, indicating that some songs in the dataset may be more acoustic than others.\n",
        "10. The \"Speechiness.\" column has mean value equal 12.48, suggesting that the songs have a moderate level of spoken words or lyrics.\n",
        "11. The \"Popularity\" column has a minimum value of 70 and a maximum value of 95, indicating that the songs in the dataset are quite popular."
      ],
      "metadata": {
        "id": "DoEQANcUebvN"
      }
    },
    {
      "cell_type": "markdown",
      "source": [
        "# Data Visulization"
      ],
      "metadata": {
        "id": "rG2i-hqHarM7"
      }
    },
    {
      "cell_type": "code",
      "source": [
        "file_df.plot()"
      ],
      "metadata": {
        "colab": {
          "base_uri": "https://localhost:8080/",
          "height": 282
        },
        "id": "pEFt2oEwavfX",
        "outputId": "974bd086-b544-4ddd-b331-9f20e1034be9"
      },
      "execution_count": null,
      "outputs": [
        {
          "output_type": "execute_result",
          "data": {
            "text/plain": [
              "<AxesSubplot:>"
            ]
          },
          "metadata": {},
          "execution_count": 21
        },
        {
          "output_type": "display_data",
          "data": {
            "text/plain": [
              "<Figure size 432x288 with 1 Axes>"
            ],
            "image/png": "[encoded data removed]"
          },
          "metadata": {
            "needs_background": "light"
          }
        }
      ]
    },
    {
      "cell_type": "code",
      "source": [
        "file_df.hist()"
      ],
      "metadata": {
        "colab": {
          "base_uri": "https://localhost:8080/",
          "height": 489
        },
        "id": "cJPZtc4mbLBt",
        "outputId": "04854682-c57d-48d7-9036-27ddbcdb30d6"
      },
      "execution_count": null,
      "outputs": [
        {
          "output_type": "execute_result",
          "data": {
            "text/plain": [
              "array([[<AxesSubplot:title={'center':'Unnamed: 0'}>,\n",
              "        <AxesSubplot:title={'center':'Beats.Per.Minute'}>,\n",
              "        <AxesSubplot:title={'center':'Energy'}>],\n",
              "       [<AxesSubplot:title={'center':'Danceability'}>,\n",
              "        <AxesSubplot:title={'center':'Loudness..dB..'}>,\n",
              "        <AxesSubplot:title={'center':'Liveness'}>],\n",
              "       [<AxesSubplot:title={'center':'Valence.'}>,\n",
              "        <AxesSubplot:title={'center':'Length.'}>,\n",
              "        <AxesSubplot:title={'center':'Acousticness..'}>],\n",
              "       [<AxesSubplot:title={'center':'Speechiness.'}>,\n",
              "        <AxesSubplot:title={'center':'Popularity'}>, <AxesSubplot:>]],\n",
              "      dtype=object)"
            ]
          },
          "metadata": {},
          "execution_count": 22
        },
        {
          "output_type": "display_data",
          "data": {
            "text/plain": [
              "<Figure size 432x288 with 12 Axes>"
            ],
            "image/png": "[encoded data removed]"
          },
          "metadata": {
            "needs_background": "light"
          }
        }
      ]
    },
    {
      "cell_type": "code",
      "source": [
        "file_df.plot.hist()"
      ],
      "metadata": {
        "colab": {
          "base_uri": "https://localhost:8080/",
          "height": 282
        },
        "id": "TAmGDTlwbQLx",
        "outputId": "d0eb1965-1f57-4a02-ab58-a0acf86f392b"
      },
      "execution_count": null,
      "outputs": [
        {
          "output_type": "execute_result",
          "data": {
            "text/plain": [
              "<AxesSubplot:ylabel='Frequency'>"
            ]
          },
          "metadata": {},
          "execution_count": 23
        },
        {
          "output_type": "display_data",
          "data": {
            "text/plain": [
              "<Figure size 432x288 with 1 Axes>"
            ],
            "image/png": "[encoded data removed]"
          },
          "metadata": {
            "needs_background": "light"
          }
        }
      ]
    },
    {
      "cell_type": "code",
      "source": [
        "file_df.plot.box()"
      ],
      "metadata": {
        "colab": {
          "base_uri": "https://localhost:8080/",
          "height": 282
        },
        "id": "8UnNEEDYtejK",
        "outputId": "ac7b8f30-5d97-4a3d-bc5f-43ad8f6c56e6"
      },
      "execution_count": null,
      "outputs": [
        {
          "output_type": "execute_result",
          "data": {
            "text/plain": [
              "<AxesSubplot:>"
            ]
          },
          "metadata": {},
          "execution_count": 47
        },
        {
          "output_type": "display_data",
          "data": {
            "text/plain": [
              "<Figure size 432x288 with 1 Axes>"
            ],
            "image/png": "[encoded data removed]"
          },
          "metadata": {
            "needs_background": "light"
          }
        }
      ]
    },
    {
      "cell_type": "code",
      "source": [
        "file_df.Energy.plot.hist()"
      ],
      "metadata": {
        "colab": {
          "base_uri": "https://localhost:8080/",
          "height": 282
        },
        "id": "45HpdUC3bZEM",
        "outputId": "00917ed1-9bdc-4e30-a02a-3136e0f8a446"
      },
      "execution_count": null,
      "outputs": [
        {
          "output_type": "execute_result",
          "data": {
            "text/plain": [
              "<AxesSubplot:ylabel='Frequency'>"
            ]
          },
          "metadata": {},
          "execution_count": 38
        },
        {
          "output_type": "display_data",
          "data": {
            "text/plain": [
              "<Figure size 432x288 with 1 Axes>"
            ],
            "image/png": "[encoded data removed]"
          },
          "metadata": {
            "needs_background": "light"
          }
        }
      ]
    },
    {
      "cell_type": "code",
      "source": [
        "file_df.Energy.plot.box()"
      ],
      "metadata": {
        "colab": {
          "base_uri": "https://localhost:8080/",
          "height": 284
        },
        "id": "uQEatNeepuXd",
        "outputId": "ba376759-b036-4b14-bfbd-8d516e6a72d0"
      },
      "execution_count": null,
      "outputs": [
        {
          "output_type": "execute_result",
          "data": {
            "text/plain": [
              "<AxesSubplot:>"
            ]
          },
          "metadata": {},
          "execution_count": 33
        },
        {
          "output_type": "display_data",
          "data": {
            "text/plain": [
              "<Figure size 432x288 with 1 Axes>"
            ],
            "image/png": "[encoded data removed]"
          },
          "metadata": {
            "needs_background": "light"
          }
        }
      ]
    },
    {
      "cell_type": "markdown",
      "source": [
        "From the histogram, we can see that the distribution of the Energy column appears to be roughly normal, with most of the observations falling between 50 and 80. There is a slight dip in the frequency of observations between 60 and 70.\n",
        "\n",
        "the Energy column appears to be normally distributed, with a mean of around 64 and a moderate amount of variation around that mean."
      ],
      "metadata": {
        "id": "0iPvzbJooCmT"
      }
    },
    {
      "cell_type": "code",
      "source": [
        "file_df.Danceability.plot.hist()"
      ],
      "metadata": {
        "colab": {
          "base_uri": "https://localhost:8080/",
          "height": 282
        },
        "id": "9xi4mknFcxOI",
        "outputId": "b06344ed-503a-4ffb-97c2-2c457d4fda4e"
      },
      "execution_count": null,
      "outputs": [
        {
          "output_type": "execute_result",
          "data": {
            "text/plain": [
              "<AxesSubplot:ylabel='Frequency'>"
            ]
          },
          "metadata": {},
          "execution_count": 30
        },
        {
          "output_type": "display_data",
          "data": {
            "text/plain": [
              "<Figure size 432x288 with 1 Axes>"
            ],
            "image/png": "[encoded data removed]"
          },
          "metadata": {
            "needs_background": "light"
          }
        }
      ]
    },
    {
      "cell_type": "code",
      "source": [
        "file_df.Danceability.plot.box()"
      ],
      "metadata": {
        "colab": {
          "base_uri": "https://localhost:8080/",
          "height": 282
        },
        "id": "nBDyGMzzpyuD",
        "outputId": "ac325cfb-9685-4bf5-ba0f-03afa70ef8ac"
      },
      "execution_count": null,
      "outputs": [
        {
          "output_type": "execute_result",
          "data": {
            "text/plain": [
              "<AxesSubplot:>"
            ]
          },
          "metadata": {},
          "execution_count": 34
        },
        {
          "output_type": "display_data",
          "data": {
            "text/plain": [
              "<Figure size 432x288 with 1 Axes>"
            ],
            "image/png": "[encoded data removed]"
          },
          "metadata": {
            "needs_background": "light"
          }
        }
      ]
    },
    {
      "cell_type": "markdown",
      "source": [
        "From the histogram, we can see that the distribution of the Danceability column is somewhat skewed to the left, with most of the observations falling between 65 and 80. There are a few high outliers in the range of 85 to 90.\n",
        "\n",
        "the Danceability column appears to be moderately normally distributed, with a mean of around 71 and a moderate amount of variation around that mean. "
      ],
      "metadata": {
        "id": "pqeQT0rWqFL7"
      }
    },
    {
      "cell_type": "code",
      "source": [
        "file_df.Liveness.plot.hist()"
      ],
      "metadata": {
        "colab": {
          "base_uri": "https://localhost:8080/",
          "height": 282
        },
        "id": "HPenmB-Scx5L",
        "outputId": "5b06bb0b-56bd-4df5-a7fd-b55befda01d5"
      },
      "execution_count": null,
      "outputs": [
        {
          "output_type": "execute_result",
          "data": {
            "text/plain": [
              "<AxesSubplot:ylabel='Frequency'>"
            ]
          },
          "metadata": {},
          "execution_count": 31
        },
        {
          "output_type": "display_data",
          "data": {
            "text/plain": [
              "<Figure size 432x288 with 1 Axes>"
            ],
            "image/png": "[encoded data removed]"
          },
          "metadata": {
            "needs_background": "light"
          }
        }
      ]
    },
    {
      "cell_type": "code",
      "source": [
        "file_df.Liveness.plot.box()"
      ],
      "metadata": {
        "colab": {
          "base_uri": "https://localhost:8080/",
          "height": 284
        },
        "id": "h7JQO1BAp8ED",
        "outputId": "d2a2d259-97d1-4f40-c244-a1d33358f9d4"
      },
      "execution_count": null,
      "outputs": [
        {
          "output_type": "execute_result",
          "data": {
            "text/plain": [
              "<AxesSubplot:>"
            ]
          },
          "metadata": {},
          "execution_count": 35
        },
        {
          "output_type": "display_data",
          "data": {
            "text/plain": [
              "<Figure size 432x288 with 1 Axes>"
            ],
            "image/png": "[encoded data removed]"
          },
          "metadata": {
            "needs_background": "light"
          }
        }
      ]
    },
    {
      "cell_type": "markdown",
      "source": [
        "From the histogram, we can see that the distribution of the Liveness column is heavily skewed to the right, with most of the observations falling between 0 and 20, but a few high outliers in the range of 50 to 60. \n",
        "\n",
        "the Liveness column appears to be heavily right-skewed, with a mean of around 14 and a moderate to high amount of variation around that mean."
      ],
      "metadata": {
        "id": "x8BjE3UPqueE"
      }
    },
    {
      "cell_type": "code",
      "source": [
        "file_df.Popularity.plot.hist()"
      ],
      "metadata": {
        "colab": {
          "base_uri": "https://localhost:8080/",
          "height": 282
        },
        "id": "hORV_7lxcyGx",
        "outputId": "9d55c7f7-bb1d-4ad1-f1a7-f952a4892429"
      },
      "execution_count": null,
      "outputs": [
        {
          "output_type": "execute_result",
          "data": {
            "text/plain": [
              "<AxesSubplot:ylabel='Frequency'>"
            ]
          },
          "metadata": {},
          "execution_count": 32
        },
        {
          "output_type": "display_data",
          "data": {
            "text/plain": [
              "<Figure size 432x288 with 1 Axes>"
            ],
            "image/png": "[encoded data removed]"
          },
          "metadata": {
            "needs_background": "light"
          }
        }
      ]
    },
    {
      "cell_type": "code",
      "source": [
        "file_df.Popularity.plot.box()"
      ],
      "metadata": {
        "colab": {
          "base_uri": "https://localhost:8080/",
          "height": 282
        },
        "id": "10XFkgkap-r-",
        "outputId": "f285b488-d645-4378-b850-102e82c056dd"
      },
      "execution_count": null,
      "outputs": [
        {
          "output_type": "execute_result",
          "data": {
            "text/plain": [
              "<AxesSubplot:>"
            ]
          },
          "metadata": {},
          "execution_count": 36
        },
        {
          "output_type": "display_data",
          "data": {
            "text/plain": [
              "<Figure size 432x288 with 1 Axes>"
            ],
            "image/png": "[encoded data removed]"
          },
          "metadata": {
            "needs_background": "light"
          }
        }
      ]
    },
    {
      "cell_type": "markdown",
      "source": [
        "From the histogram, we can see that the distribution of the Popularity column is somewhat left-skewed, with most of the observations falling between 85 and 90. There are a few high outliers in the range of 95.\n",
        "\n",
        "the Popularity column appears to be moderately normally distributed, with a mean of around 87.5 and a moderate amount of variation around that mean."
      ],
      "metadata": {
        "id": "V9OwbF-ZqzUw"
      }
    },
    {
      "cell_type": "code",
      "source": [
        "file_df.plot.scatter(x='Energy', y='Danceability')"
      ],
      "metadata": {
        "colab": {
          "base_uri": "https://localhost:8080/",
          "height": 296
        },
        "id": "7mUFkqZurx7W",
        "outputId": "d1e46150-ff5a-46d8-a664-b5dcc388883e"
      },
      "execution_count": null,
      "outputs": [
        {
          "output_type": "execute_result",
          "data": {
            "text/plain": [
              "<AxesSubplot:xlabel='Energy', ylabel='Danceability'>"
            ]
          },
          "metadata": {},
          "execution_count": 42
        },
        {
          "output_type": "display_data",
          "data": {
            "text/plain": [
              "<Figure size 432x288 with 1 Axes>"
            ],
            "image/png": "[encoded data removed]"
          },
          "metadata": {
            "needs_background": "light"
          }
        }
      ]
    },
    {
      "cell_type": "code",
      "source": [
        "file_df.plot.scatter(x='Energy', y='Loudness..dB..')"
      ],
      "metadata": {
        "colab": {
          "base_uri": "https://localhost:8080/",
          "height": 296
        },
        "id": "DAUKFD2usg6h",
        "outputId": "6405b658-a2ac-492b-afbb-f3bc0356e242"
      },
      "execution_count": null,
      "outputs": [
        {
          "output_type": "execute_result",
          "data": {
            "text/plain": [
              "<AxesSubplot:xlabel='Energy', ylabel='Loudness..dB..'>"
            ]
          },
          "metadata": {},
          "execution_count": 44
        },
        {
          "output_type": "display_data",
          "data": {
            "text/plain": [
              "<Figure size 432x288 with 1 Axes>"
            ],
            "image/png": "[encoded data removed]"
          },
          "metadata": {
            "needs_background": "light"
          }
        }
      ]
    },
    {
      "cell_type": "code",
      "source": [
        "file_df.plot.scatter(x='Beats.Per.Minute', y='Valence.')"
      ],
      "metadata": {
        "colab": {
          "base_uri": "https://localhost:8080/",
          "height": 296
        },
        "id": "ULHn99_rtpNo",
        "outputId": "70d8b03d-302f-4827-e74a-a7c50d033cd5"
      },
      "execution_count": null,
      "outputs": [
        {
          "output_type": "execute_result",
          "data": {
            "text/plain": [
              "<AxesSubplot:xlabel='Beats.Per.Minute', ylabel='Valence.'>"
            ]
          },
          "metadata": {},
          "execution_count": 48
        },
        {
          "output_type": "display_data",
          "data": {
            "text/plain": [
              "<Figure size 432x288 with 1 Axes>"
            ],
            "image/png": "[encoded data removed]"
          },
          "metadata": {
            "needs_background": "light"
          }
        }
      ]
    }
  ]
}